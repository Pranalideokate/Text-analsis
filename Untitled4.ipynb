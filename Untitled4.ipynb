{
  "nbformat": 4,
  "nbformat_minor": 0,
  "metadata": {
    "colab": {
      "name": "Untitled4.ipynb",
      "provenance": [],
      "authorship_tag": "ABX9TyPFoYy/hv3hMoWjQMk5BAw1",
      "include_colab_link": true
    },
    "kernelspec": {
      "name": "python3",
      "display_name": "Python 3"
    },
    "language_info": {
      "name": "python"
    }
  },
  "cells": [
    {
      "cell_type": "markdown",
      "metadata": {
        "id": "view-in-github",
        "colab_type": "text"
      },
      "source": [
        "<a href=\"https://colab.research.google.com/github/Pranalideokate/Text-analsis/blob/main/Untitled4.ipynb\" target=\"_parent\"><img src=\"https://colab.research.google.com/assets/colab-badge.svg\" alt=\"Open In Colab\"/></a>"
      ]
    },
    {
      "cell_type": "code",
      "execution_count": 1,
      "metadata": {
        "id": "gub3b-WP5oHE"
      },
      "outputs": [],
      "source": [
        "import os \n",
        "import nltk\n",
        "import nltk.corpus"
      ]
    },
    {
      "cell_type": "code",
      "source": [
        "nltk.download('punkt')"
      ],
      "metadata": {
        "colab": {
          "base_uri": "https://localhost:8080/"
        },
        "id": "NIHZ1CDo5932",
        "outputId": "47b3b272-e7c7-4ba8-8ecd-8920d7bddf3c"
      },
      "execution_count": 2,
      "outputs": [
        {
          "output_type": "stream",
          "name": "stdout",
          "text": [
            "[nltk_data] Downloading package punkt to /root/nltk_data...\n",
            "[nltk_data]   Unzipping tokenizers/punkt.zip.\n"
          ]
        },
        {
          "output_type": "execute_result",
          "data": {
            "text/plain": [
              "True"
            ]
          },
          "metadata": {},
          "execution_count": 2
        }
      ]
    },
    {
      "cell_type": "code",
      "source": [
        "from nltk import tokenize\n",
        "from nltk.tokenize import sent_tokenize\n",
        "text=\"\"\"Hello Mr.Smith, how are you doing today? The weather is great, and city is awesome. The sky is pinkish-blue. You shouldn't eat cardboard \"\"\"\n",
        "tokenized_text=sent_tokenize(text)\n",
        "print(tokenized_text)"
      ],
      "metadata": {
        "colab": {
          "base_uri": "https://localhost:8080/"
        },
        "id": "hvt9sBYg6PCk",
        "outputId": "5facdad8-5735-4fe2-9f3c-11411c2a9bf2"
      },
      "execution_count": 4,
      "outputs": [
        {
          "output_type": "stream",
          "name": "stdout",
          "text": [
            "['Hello Mr.Smith, how are you doing today?', 'The weather is great, and city is awesome.', 'The sky is pinkish-blue.', \"You shouldn't eat cardboard\"]\n"
          ]
        }
      ]
    },
    {
      "cell_type": "code",
      "source": [
        "from nltk.tokenize import word_tokenize\n",
        "tokenized_word=word_tokenize(text)\n",
        "print(tokenized_word)"
      ],
      "metadata": {
        "colab": {
          "base_uri": "https://localhost:8080/"
        },
        "id": "dv0eWjXP7loQ",
        "outputId": "1ce3312f-3f34-4188-8b5f-ba951cc3aa50"
      },
      "execution_count": 5,
      "outputs": [
        {
          "output_type": "stream",
          "name": "stdout",
          "text": [
            "['Hello', 'Mr.Smith', ',', 'how', 'are', 'you', 'doing', 'today', '?', 'The', 'weather', 'is', 'great', ',', 'and', 'city', 'is', 'awesome', '.', 'The', 'sky', 'is', 'pinkish-blue', '.', 'You', 'should', \"n't\", 'eat', 'cardboard']\n"
          ]
        }
      ]
    },
    {
      "cell_type": "code",
      "source": [
        "from nltk.probability import FreqDist\n",
        "fdist = FreqDist(tokenized_word)\n",
        "print(fdist)"
      ],
      "metadata": {
        "colab": {
          "base_uri": "https://localhost:8080/"
        },
        "id": "hmu6gVhP8sya",
        "outputId": "5cc88234-50c4-4d73-d698-28f8b3935a7f"
      },
      "execution_count": 6,
      "outputs": [
        {
          "output_type": "stream",
          "name": "stdout",
          "text": [
            "<FreqDist with 24 samples and 29 outcomes>\n"
          ]
        }
      ]
    },
    {
      "cell_type": "code",
      "source": [
        "fdist.most_common(2)\n"
      ],
      "metadata": {
        "colab": {
          "base_uri": "https://localhost:8080/"
        },
        "id": "rJq7ZzZh9jEp",
        "outputId": "8535bb88-6aae-4bfc-d868-ede11711a135"
      },
      "execution_count": 7,
      "outputs": [
        {
          "output_type": "execute_result",
          "data": {
            "text/plain": [
              "[('is', 3), (',', 2)]"
            ]
          },
          "metadata": {},
          "execution_count": 7
        }
      ]
    },
    {
      "cell_type": "code",
      "source": [
        "import matplotlib.pyplot as plt\n",
        "fdist.plot(30,cumulative=False)\n",
        "plt.show()"
      ],
      "metadata": {
        "colab": {
          "base_uri": "https://localhost:8080/",
          "height": 330
        },
        "id": "-nVfP91z9ucO",
        "outputId": "d66559d1-2b75-4692-c2b6-f4b410394a43"
      },
      "execution_count": 8,
      "outputs": [
        {
          "output_type": "display_data",
          "data": {
            "image/png": "[encoded data removed]",
            "text/plain": [
              "<Figure size 432x288 with 1 Axes>"
            ]
          },
          "metadata": {
            "needs_background": "light"
          }
        }
      ]
    },
    {
      "cell_type": "code",
      "source": [
        "nltk.download('stopwords')"
      ],
      "metadata": {
        "colab": {
          "base_uri": "https://localhost:8080/"
        },
        "id": "Ou4tIrn6-F56",
        "outputId": "9a090a51-663b-47f8-f4ff-f113af136b15"
      },
      "execution_count": 9,
      "outputs": [
        {
          "output_type": "stream",
          "name": "stdout",
          "text": [
            "[nltk_data] Downloading package stopwords to /root/nltk_data...\n",
            "[nltk_data]   Unzipping corpora/stopwords.zip.\n"
          ]
        },
        {
          "output_type": "execute_result",
          "data": {
            "text/plain": [
              "True"
            ]
          },
          "metadata": {},
          "execution_count": 9
        }
      ]
    },
    {
      "cell_type": "code",
      "source": [
        "from nltk.corpus import stopwords\n",
        "stop_words=set(stopwords.words(\"english\"))\n",
        "print(stop_words)"
      ],
      "metadata": {
        "colab": {
          "base_uri": "https://localhost:8080/"
        },
        "id": "8DeiJbF8-Pig",
        "outputId": "d11e3bbb-bf20-4b03-fb34-17e21074ed0b"
      },
      "execution_count": 10,
      "outputs": [
        {
          "output_type": "stream",
          "name": "stdout",
          "text": [
            "{\"didn't\", 'any', 'yourself', 'other', 'than', 'have', 'but', 'its', 'he', 'myself', 'below', 'aren', 'these', 'about', 'again', 'just', \"hasn't\", 'd', 'will', 'doesn', \"wouldn't\", \"needn't\", \"wasn't\", 'where', \"shouldn't\", \"don't\", 'needn', 'too', 'further', 't', 'to', 'if', 'in', 'mustn', 'our', 'ours', \"shan't\", 'on', \"won't\", 'couldn', 'of', 'such', 'were', 'i', 'can', \"hadn't\", 'their', 'some', 'once', 'above', 'this', 'now', 'those', 'themselves', \"isn't\", 'off', 'being', 'won', 'herself', 'haven', 'under', 'hers', 'it', 'had', 'a', 'do', 'wasn', 'theirs', 'ma', 'an', 'nor', 'shouldn', 'after', 'we', \"that'll\", 'all', 'for', 'his', 'no', 'did', 'with', 'up', 'are', 'most', 'shan', 'having', 'yourselves', 'why', 'out', 'mightn', 're', 'who', 'into', 'by', \"mightn't\", 'weren', 'himself', 've', 'which', 'whom', 'don', \"she's\", 'because', 'yours', 'you', 'more', \"you'd\", \"couldn't\", 'how', 'only', \"you'll\", 'm', 'she', \"haven't\", 'so', 'hadn', 'while', 'or', 'until', 'own', 'isn', 'your', 'the', 'and', 'my', \"you've\", \"you're\", 'them', 'before', 'down', 'here', 'very', 'me', 'him', 'that', 'each', 'same', \"mustn't\", 'her', 'as', 'o', 'been', 'both', 'does', 'between', 'didn', 'itself', 'y', 'hasn', 'should', \"aren't\", 'they', 'was', 'be', 'few', 'wouldn', \"weren't\", 'from', 'then', 'has', 'am', 'is', 'over', 'll', \"should've\", 'ain', 'against', 'not', 's', 'when', 'through', 'during', \"it's\", 'what', \"doesn't\", 'ourselves', 'there', 'doing', 'at'}\n"
          ]
        }
      ]
    },
    {
      "cell_type": "code",
      "source": [
        "filtered_sent=[]\n",
        "for w in tokenized_word:\n",
        "  if w not in stop_words:\n",
        "    filtered_sent.append(w)\n",
        "print(\"TokeniedSentence:\",tokenized_word)\n",
        "print(\"Filtered Sentence:\",filtered_sent)    "
      ],
      "metadata": {
        "colab": {
          "base_uri": "https://localhost:8080/"
        },
        "id": "0wK0I2m3_WTM",
        "outputId": "df902f25-b824-4090-d19a-0261bcc141ed"
      },
      "execution_count": 11,
      "outputs": [
        {
          "output_type": "stream",
          "name": "stdout",
          "text": [
            "TokeniedSentence: ['Hello', 'Mr.Smith', ',', 'how', 'are', 'you', 'doing', 'today', '?', 'The', 'weather', 'is', 'great', ',', 'and', 'city', 'is', 'awesome', '.', 'The', 'sky', 'is', 'pinkish-blue', '.', 'You', 'should', \"n't\", 'eat', 'cardboard']\n",
            "Filtered Sentence: ['Hello', 'Mr.Smith', ',', 'today', '?', 'The', 'weather', 'great', ',', 'city', 'awesome', '.', 'The', 'sky', 'pinkish-blue', '.', 'You', \"n't\", 'eat', 'cardboard']\n"
          ]
        }
      ]
    },
    {
      "cell_type": "code",
      "source": [
        "from nltk.stem.api import StemmerI\n",
        "from nltk.stem import PorterStemmer\n",
        "from nltk.tokenize import sent_tokenize,word_tokenize\n",
        "ps = PorterStemmer()\n",
        "stemmed_words=[]\n",
        "for w in filtered_sent:\n",
        "  stemmed_words.append(ps.stem(w))\n",
        "print(\"FilteredSentence:\",filtered_sent)\n",
        "print(\"Stemeed Sentence:\",stemmed_words)\n"
      ],
      "metadata": {
        "colab": {
          "base_uri": "https://localhost:8080/"
        },
        "id": "z-xopyr8Afe2",
        "outputId": "19090773-8998-4ae6-c555-b29e8df8d8ff"
      },
      "execution_count": 12,
      "outputs": [
        {
          "output_type": "stream",
          "name": "stdout",
          "text": [
            "FilteredSentence: ['Hello', 'Mr.Smith', ',', 'today', '?', 'The', 'weather', 'great', ',', 'city', 'awesome', '.', 'The', 'sky', 'pinkish-blue', '.', 'You', \"n't\", 'eat', 'cardboard']\n",
            "Stemeed Sentence: ['hello', 'mr.smith', ',', 'today', '?', 'the', 'weather', 'great', ',', 'citi', 'awesom', '.', 'the', 'sky', 'pinkish-blu', '.', 'you', \"n't\", 'eat', 'cardboard']\n"
          ]
        }
      ]
    },
    {
      "cell_type": "code",
      "source": [
        "nltk.download('wordnet')"
      ],
      "metadata": {
        "colab": {
          "base_uri": "https://localhost:8080/"
        },
        "id": "9kvG84k_B0jr",
        "outputId": "d39a0cdd-951f-4dc1-851d-e3e20f73bdd4"
      },
      "execution_count": 13,
      "outputs": [
        {
          "output_type": "stream",
          "name": "stdout",
          "text": [
            "[nltk_data] Downloading package wordnet to /root/nltk_data...\n",
            "[nltk_data]   Unzipping corpora/wordnet.zip.\n"
          ]
        },
        {
          "output_type": "execute_result",
          "data": {
            "text/plain": [
              "True"
            ]
          },
          "metadata": {},
          "execution_count": 13
        }
      ]
    },
    {
      "cell_type": "code",
      "source": [
        "from nltk.stem.wordnet import WordNetLemmatizer\n",
        "lem= WordNetLemmatizer()\n",
        "from nltk.stem.porter import PorterStemmer\n",
        "stem=PorterStemmer()\n",
        "\n",
        "word=\"flying\"\n",
        "print(\"Lemmatied word:\",lem.lemmatize(word,\"v\"))\n",
        "print(\"Stemmed word:\",stem.stem(word))"
      ],
      "metadata": {
        "colab": {
          "base_uri": "https://localhost:8080/"
        },
        "id": "bd8mDTYVCRLo",
        "outputId": "31d95b17-ac21-4947-a73b-207147cedcdf"
      },
      "execution_count": 15,
      "outputs": [
        {
          "output_type": "stream",
          "name": "stdout",
          "text": [
            "Lemmatied word: fly\n",
            "Stemmed word: fli\n"
          ]
        }
      ]
    },
    {
      "cell_type": "code",
      "source": [
        "sent =\"Albert Einstein was born in Ulm,Germany in 1879.\"\n",
        "tokens=nltk.word_tokenize(sent)\n",
        "print(tokens)"
      ],
      "metadata": {
        "colab": {
          "base_uri": "https://localhost:8080/"
        },
        "id": "1ObUlf09Dg8Y",
        "outputId": "25955463-76b6-4142-9916-f27ee5b030a8"
      },
      "execution_count": 16,
      "outputs": [
        {
          "output_type": "stream",
          "name": "stdout",
          "text": [
            "['Albert', 'Einstein', 'was', 'born', 'in', 'Ulm', ',', 'Germany', 'in', '1879', '.']\n"
          ]
        }
      ]
    },
    {
      "cell_type": "code",
      "source": [
        "\n",
        "nltk.download('averaged_perceptron_tagger')"
      ],
      "metadata": {
        "colab": {
          "base_uri": "https://localhost:8080/"
        },
        "id": "p5MSCo1CEDmZ",
        "outputId": "fefc9b33-865e-474e-ecd3-c23672fa302a"
      },
      "execution_count": 18,
      "outputs": [
        {
          "output_type": "stream",
          "name": "stdout",
          "text": [
            "[nltk_data] Downloading package averaged_perceptron_tagger to\n",
            "[nltk_data]     /root/nltk_data...\n",
            "[nltk_data]   Unzipping taggers/averaged_perceptron_tagger.zip.\n"
          ]
        },
        {
          "output_type": "execute_result",
          "data": {
            "text/plain": [
              "True"
            ]
          },
          "metadata": {},
          "execution_count": 18
        }
      ]
    },
    {
      "cell_type": "code",
      "source": [
        "nltk.pos_tag(tokens)"
      ],
      "metadata": {
        "colab": {
          "base_uri": "https://localhost:8080/"
        },
        "id": "AADYBlBlEpOt",
        "outputId": "b5f13523-8d8f-4072-b186-b155cf07a1e8"
      },
      "execution_count": 19,
      "outputs": [
        {
          "output_type": "execute_result",
          "data": {
            "text/plain": [
              "[('Albert', 'NNP'),\n",
              " ('Einstein', 'NNP'),\n",
              " ('was', 'VBD'),\n",
              " ('born', 'VBN'),\n",
              " ('in', 'IN'),\n",
              " ('Ulm', 'NNP'),\n",
              " (',', ','),\n",
              " ('Germany', 'NNP'),\n",
              " ('in', 'IN'),\n",
              " ('1879', 'CD'),\n",
              " ('.', '.')]"
            ]
          },
          "metadata": {},
          "execution_count": 19
        }
      ]
    },
    {
      "cell_type": "code",
      "source": [
        ""
      ],
      "metadata": {
        "id": "seRr6fcPEx0V"
      },
      "execution_count": null,
      "outputs": []
    }
  ]
}